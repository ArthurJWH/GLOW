{
 "cells": [
  {
   "cell_type": "markdown",
   "id": "96357f47",
   "metadata": {},
   "source": [
    "## G.L.O.W. App\n",
    "To create the application, first install the `pyinstaller` package"
   ]
  },
  {
   "cell_type": "code",
   "execution_count": null,
   "id": "60090152",
   "metadata": {},
   "outputs": [],
   "source": [
    "%pip install pyinstaller;"
   ]
  },
  {
   "cell_type": "markdown",
   "id": "4e3133ae",
   "metadata": {},
   "source": [
    "After having the ```pyinstaller``` package installed, run the following code, ensuring that:\n",
    " - Windows: ```icon=icon.ico```\n",
    " - macOS: ```icon=icon.icns```\n",
    " - Linux: ```icon=icon.png```"
   ]
  },
  {
   "cell_type": "code",
   "execution_count": null,
   "id": "774c03d1",
   "metadata": {},
   "outputs": [],
   "source": [
    "!pyinstaller glow.spec ;"
   ]
  },
  {
   "cell_type": "markdown",
   "id": "a4c47a7d",
   "metadata": {},
   "source": [
    "If there is any updates to G.L.O.W.,\n",
    "run the following code to delete the application,\n",
    "before running the code above again."
   ]
  },
  {
   "cell_type": "code",
   "execution_count": null,
   "id": "7def0322",
   "metadata": {},
   "outputs": [],
   "source": [
    "!rmdir /s /q build dist __pycache__"
   ]
  },
  {
   "cell_type": "markdown",
   "id": "231989c5",
   "metadata": {},
   "source": [
    "After running the `pyinstaller`, open the `dist` folder where there will be a `G.L.O.W..exe` file.\n",
    "With this file, it is possible to create a shortcut and drop the shortcut into the desktop."
   ]
  }
 ],
 "metadata": {
  "kernelspec": {
   "display_name": "Python 3",
   "language": "python",
   "name": "python3"
  },
  "language_info": {
   "codemirror_mode": {
    "name": "ipython",
    "version": 3
   },
   "file_extension": ".py",
   "mimetype": "text/x-python",
   "name": "python",
   "nbconvert_exporter": "python",
   "pygments_lexer": "ipython3",
   "version": "3.13.2"
  }
 },
 "nbformat": 4,
 "nbformat_minor": 5
}
